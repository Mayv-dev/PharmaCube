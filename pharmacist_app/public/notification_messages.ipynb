{
    "cells": [
        {
            "cell_type": "markdown",
            "id": "755b6b7c",
            "metadata": {},
            "source": [
                "# Trigger Notification for, and Routing to, a Patient's Chat"
            ]
        },
        {
            "cell_type": "code",
            "execution_count": null,
            "id": "1ee3fb4e",
            "metadata": {
                "vscode": {
                    "languageId": "json"
                }
            },
            "outputs": [],
            "source": [
                "{\n",
                "    \"route_to\":\"chat\",\n",
                "    \"patient\":1,\n",
                "    \"body\":\"Ann Murphy has sent you a message\"\n",
                "}"
            ]
        }
    ],
    "metadata": {
        "language_info": {
            "name": "python"
        }
    },
    "nbformat": 4,
    "nbformat_minor": 5
}
